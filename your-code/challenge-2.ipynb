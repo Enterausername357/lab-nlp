{
  "cells": [
    {
      "cell_type": "markdown",
      "metadata": {
        "id": "uPWon_AqFimC"
      },
      "source": [
        "# Challenge 2: Sentiment Analysis\n",
        "\n",
        "In this challenge we will learn sentiment analysis and practice performing sentiment analysis on Twitter tweets.\n",
        "\n",
        "## Introduction\n",
        "\n",
        "Sentiment analysis is to *systematically identify, extract, quantify, and study affective states and subjective information* based on texts ([reference](https://en.wikipedia.org/wiki/Sentiment_analysis)). In simple words, it's to understand whether a person is happy or unhappy in producing the piece of text. Why we (or rather, companies) care about sentiment in texts? It's because by understanding the sentiments in texts, we will be able to know if our customers are happy or unhappy about our products and services. If they are unhappy, the subsequent action is to figure out what have caused the unhappiness and make improvements.\n",
        "\n",
        "Basic sentiment analysis only understands the *positive* or *negative* (sometimes *neutral* too) polarities of the sentiment. More advanced sentiment analysis will also consider dimensions such as agreement, subjectivity, confidence, irony, and so on. In this challenge we will conduct the basic positive vs negative sentiment analysis based on real Twitter tweets.\n",
        "\n",
        "NLTK comes with a [sentiment analysis package](https://www.nltk.org/api/nltk.sentiment.html). This package is great for dummies to perform sentiment analysis because it requires only the textual data to make predictions. For example:\n",
        "\n",
        "```python\n",
        ">>> from nltk.sentiment.vader import SentimentIntensityAnalyzer\n",
        ">>> txt = \"Ironhack is a Global Tech School ranked num 2 worldwide.\n",
        "\n",
        "Our mission is to help people transform their careers and join a thriving community of tech professionals that love what they do.\"\n",
        ">>> analyzer = SentimentIntensityAnalyzer()\n",
        ">>> analyzer.polarity_scores(txt)\n",
        "{'neg': 0.0, 'neu': 0.741, 'pos': 0.259, 'compound': 0.8442}\n",
        "```\n",
        "\n",
        "In this challenge, however, you will not use NLTK's sentiment analysis package because in your Machine Learning training in the past 2 weeks you have learned how to make predictions more accurate than that. The [tweets data](https://www.kaggle.com/kazanova/sentiment140) we will be using today are already coded for the positive/negative sentiment. You will be able to use the Naïve Bayes classifier you learned in the lesson to predict the sentiment of tweets based on the labels."
      ]
    },
    {
      "cell_type": "markdown",
      "metadata": {
        "id": "5JrGT3mfFimE"
      },
      "source": [
        "## Conducting Sentiment Analysis\n",
        "\n",
        "### Loading and Exploring Data\n",
        "\n",
        "The dataset we'll be using today is located on Kaggle (https://www.kaggle.com/kazanova/sentiment140). Once you have downloaded and imported the dataset, it you will need to define the columns names: df.columns = ['target','id','date','flag','user','text']\n",
        "\n",
        "*Notes:*\n",
        "\n",
        "* The dataset is huuuuge (1.6m tweets). When you develop your data analysis codes, you can sample a subset of the data (e.g. 20k records) so that you will save a lot of time when you test your codes."
      ]
    },
    {
      "cell_type": "code",
      "execution_count": 4,
      "metadata": {
        "colab": {
          "base_uri": "https://localhost:8080/"
        },
        "id": "JW4xUsmVFimE",
        "outputId": "47c38f46-4b51-44ae-8bd8-6fec076d478c"
      },
      "outputs": [
        {
          "output_type": "stream",
          "name": "stdout",
          "text": [
            "<class 'pandas.core.frame.DataFrame'>\n",
            "RangeIndex: 1600000 entries, 0 to 1599999\n",
            "Data columns (total 6 columns):\n",
            " #   Column  Non-Null Count    Dtype \n",
            "---  ------  --------------    ----- \n",
            " 0   target  1600000 non-null  int64 \n",
            " 1   id      1600000 non-null  int64 \n",
            " 2   date    1600000 non-null  object\n",
            " 3   flag    1600000 non-null  object\n",
            " 4   user    1600000 non-null  object\n",
            " 5   text    1600000 non-null  object\n",
            "dtypes: int64(2), object(4)\n",
            "memory usage: 73.2+ MB\n",
            "None\n",
            "        target          id                          date      flag  \\\n",
            "541200       0  2200003196  Tue Jun 16 18:18:12 PDT 2009  NO_QUERY   \n",
            "750          0  1467998485  Mon Apr 06 23:11:14 PDT 2009  NO_QUERY   \n",
            "766711       0  2300048954  Tue Jun 23 13:40:11 PDT 2009  NO_QUERY   \n",
            "285055       0  1993474027  Mon Jun 01 10:26:07 PDT 2009  NO_QUERY   \n",
            "705995       0  2256550904  Sat Jun 20 12:56:51 PDT 2009  NO_QUERY   \n",
            "\n",
            "                   user                                               text  \n",
            "541200  LaLaLindsey0609             @chrishasboobs AHHH I HOPE YOUR OK!!!   \n",
            "750         sexygrneyes  @misstoriblack cool , i have no tweet apps  fo...  \n",
            "766711       sammydearr  @TiannaChaos i know  just family drama. its la...  \n",
            "285055      Lamb_Leanne  School email won't open  and I have geography ...  \n",
            "705995      yogicerdito                             upper airways problem   \n"
          ]
        }
      ],
      "source": [
        "# your code here\n",
        "import pandas as pd\n",
        "\n",
        "# Load the dataset (assuming the file is available at the given path)\n",
        "file_path = 'training.1600000.processed.noemoticon.csv'\n",
        "\n",
        "# Use on_bad_lines='skip' instead of error_bad_lines=False for older pandas versions\n",
        "df = pd.read_csv(file_path, encoding='latin-1', header=None, on_bad_lines='skip')\n",
        "\n",
        "# Define the column names\n",
        "df.columns = ['target', 'id', 'date', 'flag', 'user', 'text']\n",
        "\n",
        "# Display basic information about the dataset\n",
        "print(df.info())\n",
        "\n",
        "# Take a sample of 20,000 records to work with initially\n",
        "sample_df = df.sample(n=20000, random_state=42)\n",
        "\n",
        "# Display the first few rows of the sample\n",
        "print(sample_df.head())"
      ]
    },
    {
      "cell_type": "markdown",
      "metadata": {
        "id": "gelXqe_iFimF"
      },
      "source": [
        "### Prepare Textual Data for Sentiment Analysis\n",
        "\n",
        "Now, apply the functions you have written in Challenge 1 to your whole data set. These functions include:\n",
        "\n",
        "* `clean_up()`\n",
        "\n",
        "* `tokenize()`\n",
        "\n",
        "* `stem_and_lemmatize()`\n",
        "\n",
        "* `remove_stopwords()`\n",
        "\n",
        "Create a new column called `text_processed` in the dataframe to contain the processed data. At the end, your `text_processed` column should contain lists of word tokens that are cleaned up. Your data should look like below:\n",
        "\n",
        "![Processed Data](data-cleaning-results.png)"
      ]
    },
    {
      "cell_type": "code",
      "source": [
        "import re\n",
        "\n",
        "def clean_up(text):\n",
        "    # Step 1: Remove URLs\n",
        "    text = re.sub(r'https?://\\S+|www\\.\\S+', '', text)\n",
        "\n",
        "    # Step 2: Replace special characters and numbers with whitespace\n",
        "    text = re.sub(r'[^a-zA-Z\\s]', ' ', text)\n",
        "\n",
        "    # Step 3: Convert to lowercase\n",
        "    text = text.lower()\n",
        "\n",
        "    # Step 4: Remove extra whitespace\n",
        "    text = re.sub(r'\\s+', ' ', text).strip()\n",
        "\n",
        "    return text\n"
      ],
      "metadata": {
        "id": "KsDOocRhIUfq"
      },
      "execution_count": 5,
      "outputs": []
    },
    {
      "cell_type": "code",
      "source": [
        "def tokenize(text):\n",
        "    # Split the text into words using whitespace\n",
        "    tokens = text.split()\n",
        "    return tokens"
      ],
      "metadata": {
        "id": "SbJjx1s1IVCM"
      },
      "execution_count": 6,
      "outputs": []
    },
    {
      "cell_type": "code",
      "source": [
        "import nltk\n",
        "from nltk.stem import WordNetLemmatizer, PorterStemmer\n",
        "\n",
        "# Download WordNet resource\n",
        "nltk.download('wordnet')\n",
        "\n",
        "# Initialize the lemmatizer and stemmer\n",
        "lemmatizer = WordNetLemmatizer()\n",
        "stemmer = PorterStemmer()\n",
        "\n",
        "def stem_and_lemmatize(words):\n",
        "    # Lemmatize each word\n",
        "    lemmatized_words = [lemmatizer.lemmatize(word) for word in words]\n",
        "    # Stem each word\n",
        "    stemmed_words = [stemmer.stem(word) for word in words]\n",
        "\n",
        "    return lemmatized_words, stemmed_words"
      ],
      "metadata": {
        "colab": {
          "base_uri": "https://localhost:8080/"
        },
        "id": "saV7-N0rIVcd",
        "outputId": "82671b6f-7180-46f9-c56e-4def55c28752"
      },
      "execution_count": 7,
      "outputs": [
        {
          "output_type": "stream",
          "name": "stderr",
          "text": [
            "[nltk_data] Downloading package wordnet to /root/nltk_data...\n",
            "[nltk_data]   Package wordnet is already up-to-date!\n"
          ]
        }
      ]
    },
    {
      "cell_type": "code",
      "source": [
        "import nltk\n",
        "from nltk.corpus import stopwords\n",
        "\n",
        "# Download stopwords\n",
        "nltk.download('stopwords')\n",
        "\n",
        "# Get the list of English stopwords\n",
        "stop_words = set(stopwords.words('english'))\n",
        "\n",
        "def remove_stopwords(words):\n",
        "    # Remove stopwords from the list\n",
        "    filtered_words = [word for word in words if word.lower() not in stop_words]\n",
        "    return filtered_words"
      ],
      "metadata": {
        "colab": {
          "base_uri": "https://localhost:8080/"
        },
        "id": "ZP3q_3E-IVjp",
        "outputId": "95bd00dd-b676-4a3e-c897-fdbc36f5df8b"
      },
      "execution_count": 8,
      "outputs": [
        {
          "output_type": "stream",
          "name": "stderr",
          "text": [
            "[nltk_data] Downloading package stopwords to /root/nltk_data...\n",
            "[nltk_data]   Package stopwords is already up-to-date!\n"
          ]
        }
      ]
    },
    {
      "cell_type": "code",
      "source": [],
      "metadata": {
        "id": "nXESDQVuIsnd"
      },
      "execution_count": 8,
      "outputs": []
    },
    {
      "cell_type": "code",
      "execution_count": 9,
      "metadata": {
        "colab": {
          "base_uri": "https://localhost:8080/"
        },
        "id": "rYIW5GR_FimF",
        "outputId": "dcbbe58d-e153-44d3-ef77-0d764c2f1d39"
      },
      "outputs": [
        {
          "output_type": "stream",
          "name": "stdout",
          "text": [
            "                                                     text  \\\n",
            "541200             @chrishasboobs AHHH I HOPE YOUR OK!!!    \n",
            "750     @misstoriblack cool , i have no tweet apps  fo...   \n",
            "766711  @TiannaChaos i know  just family drama. its la...   \n",
            "285055  School email won't open  and I have geography ...   \n",
            "705995                             upper airways problem    \n",
            "\n",
            "                                           text_processed  \n",
            "541200                    [chrishasboobs, ahhh, hope, ok]  \n",
            "750              [misstoriblack, cool, tweet, apps, razr]  \n",
            "766711  [tiannachaos, know, family, drama, lame, hey, ...  \n",
            "285055  [school, email, open, geography, stuff, revise...  \n",
            "705995                           [upper, airway, problem]  \n"
          ]
        }
      ],
      "source": [
        "# Apply the functions in sequence to create the 'text_processed' column\n",
        "def process_text(text):\n",
        "    # Step 1: Clean up text (remove URLs, special characters, etc.)\n",
        "    cleaned_text = clean_up(text)\n",
        "\n",
        "    # Step 2: Tokenize cleaned text\n",
        "    tokens = tokenize(cleaned_text)\n",
        "\n",
        "    # Step 3: Stem and Lemmatize tokens (use lemmatized tokens for further analysis)\n",
        "    lemmatized_tokens, _ = stem_and_lemmatize(tokens)\n",
        "\n",
        "    # Step 4: Remove stop words (applied on lemmatized tokens)\n",
        "    final_tokens = remove_stopwords(lemmatized_tokens)\n",
        "\n",
        "    return final_tokens\n",
        "\n",
        "# Apply the process_text function to each row in the 'text' column\n",
        "sample_df['text_processed'] = sample_df['text'].apply(process_text)\n",
        "\n",
        "# Display the first few rows of the updated DataFrame\n",
        "print(sample_df[['text', 'text_processed']].head())\n"
      ]
    },
    {
      "cell_type": "markdown",
      "metadata": {
        "id": "gd92h6gdFimF"
      },
      "source": [
        "### Creating Bag of Words\n",
        "\n",
        "The purpose of this step is to create a [bag of words](https://en.wikipedia.org/wiki/Bag-of-words_model) from the processed data. The bag of words contains all the unique words in your whole text body (a.k.a. *corpus*) with the number of occurrence of each word. It will allow you to understand which words are the most important features across the whole corpus.\n",
        "\n",
        "Also, you can imagine you will have a massive set of words. The less important words (i.e. those of very low number of occurrence) do not contribute much to the sentiment. Therefore, you only need to use the most important words to build your feature set in the next step. In our case, we will use the top 5,000 words with the highest frequency to build the features.\n",
        "\n",
        "In the cell below, combine all the words in `text_processed` and calculate the frequency distribution of all words. A convenient library to calculate the term frequency distribution is NLTK's `FreqDist` class ([documentation](https://www.nltk.org/api/nltk.html#module-nltk.probability)). Then select the top 5,000 words from the frequency distribution."
      ]
    },
    {
      "cell_type": "code",
      "execution_count": 10,
      "metadata": {
        "colab": {
          "base_uri": "https://localhost:8080/"
        },
        "id": "QdaEXNBXFimF",
        "outputId": "68c63c48-80c6-4d8b-894d-ce14235e28fc"
      },
      "outputs": [
        {
          "output_type": "stream",
          "name": "stdout",
          "text": [
            "Top 10 words: ['wa', 'day', 'good', 'get', 'like', 'quot', 'go', 'today', 'work', 'love']\n",
            "Top 10 filtered words: ['day', 'good', 'get', 'like', 'go', 'today', 'work', 'love', 'u', 'time']\n"
          ]
        }
      ],
      "source": [
        "# your code here\n",
        "from nltk import FreqDist\n",
        "\n",
        "# Step 1: Combine all words in text_processed into a single list\n",
        "all_words = [word for tokens in sample_df['text_processed'] for word in tokens]\n",
        "\n",
        "# Step 2: Calculate the frequency distribution of all words\n",
        "freq_dist = FreqDist(all_words)\n",
        "\n",
        "# Step 3: Select the top 5,000 words based on frequency\n",
        "top_5000_words = [word for word, _ in freq_dist.most_common(5000)]\n",
        "\n",
        "# Display the top 10 words for verification\n",
        "print(\"Top 10 words:\", top_5000_words[:10])\n",
        "\n",
        "# Step 1: Define a list of meaningless words to remove\n",
        "meaningless_words = {'wa', 'quot', 'amp', 'http', 'rt'}  # Add common meaningless artifacts here\n",
        "\n",
        "# Step 2: Filter out these meaningless words from the frequency distribution\n",
        "filtered_freq_dist = {word: freq for word, freq in freq_dist.items() if word not in meaningless_words}\n",
        "\n",
        "# Step 3: Select the top 5,000 words based on the filtered frequency\n",
        "filtered_top_5000_words = [word for word, _ in sorted(filtered_freq_dist.items(), key=lambda item: item[1], reverse=True)[:5000]]\n",
        "\n",
        "# Display the top 10 filtered words for verification\n",
        "print(\"Top 10 filtered words:\", filtered_top_5000_words[:10])\n",
        "\n",
        "\n"
      ]
    },
    {
      "cell_type": "markdown",
      "metadata": {
        "id": "vcc5UfmSFimG"
      },
      "source": [
        "### Building Features\n",
        "\n",
        "Now let's build the features. Using the top 5,000 words, create a 2-dimensional matrix to record whether each of those words is contained in each document (tweet). Then you also have an output column to indicate whether the sentiment in each tweet is positive. For example, assuming your bag of words has 5 items (`['one', 'two', 'three', 'four', 'five']`) out of 4 documents (`['A', 'B', 'C', 'D']`), your feature set is essentially:\n",
        "\n",
        "| Doc | one | two | three | four | five | is_positive |\n",
        "|---|---|---|---|---|---|---|\n",
        "| A | True | False | False | True | False | True |\n",
        "| B | False | False | False | True | True | False |\n",
        "| C | False | True | False | False | False | True |\n",
        "| D | True | False | False | False | True | False|\n",
        "\n",
        "However, because the `nltk.NaiveBayesClassifier.train` class we will use in the next step does not work with Pandas dataframe, the structure of your feature set should be converted to the Python list looking like below:\n",
        "\n",
        "```python\n",
        "[\n",
        "\t({\n",
        "\t\t'one': True,\n",
        "\t\t'two': False,\n",
        "\t\t'three': False,\n",
        "\t\t'four': True,\n",
        "\t\t'five': False\n",
        "\t}, True),\n",
        "\t({\n",
        "\t\t'one': False,\n",
        "\t\t'two': False,\n",
        "\t\t'three': False,\n",
        "\t\t'four': True,\n",
        "\t\t'five': True\n",
        "\t}, False),\n",
        "\t({\n",
        "\t\t'one': False,\n",
        "\t\t'two': True,\n",
        "\t\t'three': False,\n",
        "\t\t'four': False,\n",
        "\t\t'five': False\n",
        "\t}, True),\n",
        "\t({\n",
        "\t\t'one': True,\n",
        "\t\t'two': False,\n",
        "\t\t'three': False,\n",
        "\t\t'four': False,\n",
        "\t\t'five': True\n",
        "\t}, False)\n",
        "]\n",
        "```\n",
        "\n",
        "To help you in this step, watch the [following video](https://www.youtube.com/watch?v=-vVskDsHcVc) to learn how to build the feature set with Python and NLTK. The source code in this video can be found [here](https://pythonprogramming.net/words-as-features-nltk-tutorial/)."
      ]
    },
    {
      "cell_type": "markdown",
      "metadata": {
        "id": "bKWRRqqMFimG"
      },
      "source": [
        "[![Building Features](building-features.jpg)](https://www.youtube.com/watch?v=-vVskDsHcVc)"
      ]
    },
    {
      "cell_type": "code",
      "execution_count": 11,
      "metadata": {
        "colab": {
          "base_uri": "https://localhost:8080/"
        },
        "id": "AvrT2i13FimG",
        "outputId": "60f64939-851d-4436-cc39-1e0e441a3737"
      },
      "outputs": [
        {
          "output_type": "stream",
          "name": "stdout",
          "text": [
            "Bag of Words Matrix Shape: (20000, 5000)\n",
            "   day  good  get  like  go  today  work  love  u  time  ...  kidnap  sharp  \\\n",
            "0    0     0    0     0   0      0     0     0  0     0  ...       0      0   \n",
            "1    0     0    0     0   0      0     0     0  0     0  ...       0      0   \n",
            "2    0     0    0     1   0      0     0     0  0     1  ...       0      0   \n",
            "3    0     0    0     0   0      0     0     0  0     0  ...       0      0   \n",
            "4    0     0    0     0   0      0     0     0  0     0  ...       0      0   \n",
            "\n",
            "   cal  protest  ticklemejoey  bracelet  threat  weekly  cartoon  visitor  \n",
            "0    0        0             0         0       0       0        0        0  \n",
            "1    0        0             0         0       0       0        0        0  \n",
            "2    0        0             0         0       0       0        0        0  \n",
            "3    0        0             0         0       0       0        0        0  \n",
            "4    0        0             0         0       0       0        0        0  \n",
            "\n",
            "[5 rows x 5000 columns]\n"
          ]
        }
      ],
      "source": [
        "# your code here\n",
        "from sklearn.feature_extraction.text import CountVectorizer\n",
        "\n",
        "# Step 1: Define a function to convert lists of words to text (since CountVectorizer works with text input)\n",
        "def list_to_string(words):\n",
        "    return ' '.join(words)\n",
        "\n",
        "# Apply this function to the 'text_processed' column to convert lists of words to strings\n",
        "sample_df['processed_text_str'] = sample_df['text_processed'].apply(list_to_string)\n",
        "\n",
        "# Step 2: Create a CountVectorizer instance using the top 5,000 words as the vocabulary\n",
        "vectorizer = CountVectorizer(vocabulary=filtered_top_5000_words)\n",
        "\n",
        "# Step 3: Fit and transform the 'processed_text_str' to create the Bag of Words matrix\n",
        "bow_matrix = vectorizer.fit_transform(sample_df['processed_text_str'])\n",
        "\n",
        "# Display the Bag of Words matrix shape (number of documents, number of features)\n",
        "print(\"Bag of Words Matrix Shape:\", bow_matrix.shape)\n",
        "\n",
        "# Optional: Convert the BoW matrix to a DataFrame for a more readable view\n",
        "bow_df = pd.DataFrame(bow_matrix.toarray(), columns=vectorizer.get_feature_names_out())\n",
        "print(bow_df.head())\n"
      ]
    },
    {
      "cell_type": "markdown",
      "metadata": {
        "id": "obhlEb8HFimG"
      },
      "source": [
        "### Building and Traininng Naive Bayes Model\n",
        "\n",
        "In this step you will split your feature set into a training and a test set. Then you will create a Bayes classifier instance using `nltk.NaiveBayesClassifier.train` ([example](https://www.nltk.org/book/ch06.html)) to train with the training dataset.\n",
        "\n",
        "After training the model, call `classifier.show_most_informative_features()` to inspect the most important features. The output will look like:\n",
        "\n",
        "```\n",
        "Most Informative Features\n",
        "\t    snow = True            False : True   =     34.3 : 1.0\n",
        "\t  easter = True            False : True   =     26.2 : 1.0\n",
        "\t headach = True            False : True   =     20.9 : 1.0\n",
        "\t    argh = True            False : True   =     17.6 : 1.0\n",
        "\tunfortun = True            False : True   =     16.9 : 1.0\n",
        "\t    jona = True             True : False  =     16.2 : 1.0\n",
        "\t     ach = True            False : True   =     14.9 : 1.0\n",
        "\t     sad = True            False : True   =     13.0 : 1.0\n",
        "\t  parent = True            False : True   =     12.9 : 1.0\n",
        "\t  spring = True            False : True   =     12.7 : 1.0\n",
        "```\n",
        "\n",
        "The [following video](https://www.youtube.com/watch?v=rISOsUaTrO4) will help you complete this step. The source code in this video can be found [here](https://pythonprogramming.net/naive-bayes-classifier-nltk-tutorial/)."
      ]
    },
    {
      "cell_type": "markdown",
      "metadata": {
        "id": "nRAtvavbFimG"
      },
      "source": [
        "[![Building and Training NB](nb-model-building.jpg)](https://www.youtube.com/watch?v=rISOsUaTrO4)"
      ]
    },
    {
      "cell_type": "code",
      "execution_count": 12,
      "metadata": {
        "id": "uNkIne2EFimG"
      },
      "outputs": [],
      "source": [
        "# your code here\n",
        "from sklearn.model_selection import train_test_split\n",
        "\n",
        "# Split the feature set and labels (sample_df['target'] represents sentiment labels)\n",
        "X = bow_df  # Features (Bag of Words)\n",
        "y = sample_df['target']  # Labels (sentiments)\n",
        "\n",
        "# Split into training and testing sets (80% train, 20% test)\n",
        "X_train, X_test, y_train, y_test = train_test_split(X, y, test_size=0.2, random_state=42)"
      ]
    },
    {
      "cell_type": "code",
      "source": [
        "import numpy as np\n",
        "\n",
        "# Convert the training data into feature dictionaries\n",
        "def to_feature_dict(row):\n",
        "    return {f\"word_{i}\": row[i] for i in range(len(row))}\n",
        "\n",
        "# Prepare training data in the required format\n",
        "train_data = [(to_feature_dict(X_train.iloc[i].values), y_train.iloc[i]) for i in range(len(X_train))]\n",
        "\n",
        "# Convert the data labels to binary form expected by nltk (0 or 1)\n",
        "train_data = [(features, 'positive' if label == 4 else 'negative') for features, label in train_data]\n"
      ],
      "metadata": {
        "id": "6oEqe9AuKo_v"
      },
      "execution_count": 13,
      "outputs": []
    },
    {
      "cell_type": "code",
      "source": [
        "import nltk\n",
        "from nltk.classify import NaiveBayesClassifier\n",
        "\n",
        "# Train the Naive Bayes Classifier\n",
        "classifier = NaiveBayesClassifier.train(train_data)\n"
      ],
      "metadata": {
        "id": "6whJxr8uKpr4"
      },
      "execution_count": 14,
      "outputs": []
    },
    {
      "cell_type": "code",
      "source": [
        "# Show the most informative features\n",
        "classifier.show_most_informative_features()\n"
      ],
      "metadata": {
        "colab": {
          "base_uri": "https://localhost:8080/"
        },
        "id": "6gjeoxixK0nA",
        "outputId": "e747496c-2fff-4271-a15f-ef6b0626d1d7"
      },
      "execution_count": 15,
      "outputs": [
        {
          "output_type": "stream",
          "name": "stdout",
          "text": [
            "Most Informative Features\n",
            "                word_239 = 1              negati : positi =     23.3 : 1.0\n",
            "                word_632 = 1              negati : positi =     18.5 : 1.0\n",
            "                word_460 = 1              positi : negati =     17.2 : 1.0\n",
            "                word_677 = 1              negati : positi =     16.5 : 1.0\n",
            "                word_334 = 1              positi : negati =     16.2 : 1.0\n",
            "                 word_43 = 1              negati : positi =     14.2 : 1.0\n",
            "                word_516 = 1              negati : positi =     14.0 : 1.0\n",
            "                word_707 = 1              negati : positi =     13.8 : 1.0\n",
            "                word_872 = 1              negati : positi =     13.1 : 1.0\n",
            "                word_821 = 1              positi : negati =     12.9 : 1.0\n"
          ]
        }
      ]
    },
    {
      "cell_type": "markdown",
      "metadata": {
        "id": "noLV-JYOFimH"
      },
      "source": [
        "### Testing Naive Bayes Model\n",
        "\n",
        "Now we'll test our classifier with the test dataset. This is done by calling `nltk.classify.accuracy(classifier, test)`.\n",
        "\n",
        "As mentioned in one of the tutorial videos, a Naive Bayes model is considered OK if your accuracy score is over 0.6. If your accuracy score is over 0.7, you've done a great job!"
      ]
    },
    {
      "cell_type": "code",
      "execution_count": null,
      "metadata": {
        "id": "DeFrjZMAFimH"
      },
      "outputs": [],
      "source": [
        "# your code here\n",
        "# Prepare the test data in the required format\n",
        "test_data = [(to_feature_dict(X_test.iloc[i].values), y_test.iloc[i]) for i in range(len(X_test))]\n",
        "\n",
        "# Convert the data labels to binary form expected by nltk (0 or 1)\n",
        "test_data = [(features, 'positive' if label == 4 else 'negative') for features, label in test_data]\n",
        "from nltk.classify import accuracy\n",
        "\n",
        "# Calculate the accuracy of the classifier on the test set\n",
        "test_accuracy = accuracy(classifier, test_data)\n",
        "\n",
        "# Print the accuracy score\n",
        "print(\"Naive Bayes Classifier Accuracy:\", test_accuracy)"
      ]
    },
    {
      "cell_type": "markdown",
      "metadata": {
        "id": "VjPNaxreFimH"
      },
      "source": [
        "## Bonus Question 1: Improve Model Performance\n",
        "\n",
        "If you are still not exhausted so far and want to dig deeper, try to improve your classifier performance. There are many aspects you can dig into, for example:\n",
        "\n",
        "* Improve stemming and lemmatization. Inspect your bag of words and the most important features. Are there any words you should furuther remove from analysis? You can append these words to further remove to the stop words list.\n",
        "\n",
        "* Remember we only used the top 5,000 features to build model? Try using different numbers of top features. The bottom line is to use as few features as you can without compromising your model performance. The fewer features you select into your model, the faster your model is trained. Then you can use a larger sample size to improve your model accuracy score."
      ]
    },
    {
      "cell_type": "code",
      "execution_count": null,
      "metadata": {
        "id": "M_HfRuiBFimH"
      },
      "outputs": [],
      "source": [
        "# your code here"
      ]
    },
    {
      "cell_type": "markdown",
      "metadata": {
        "id": "p2lfzBHnFimH"
      },
      "source": [
        "## Bonus Question 2: Machine Learning Pipeline\n",
        "\n",
        "In a new Jupyter Notebook, combine all your codes into a function (or a class). Your new function will execute the complete machine learning pipeline job by receiving the dataset location and output the classifier. This will allow you to use your function to predict the sentiment of any tweet in real time."
      ]
    },
    {
      "cell_type": "code",
      "execution_count": null,
      "metadata": {
        "id": "oghCWGrmFimH"
      },
      "outputs": [],
      "source": [
        "# your code here"
      ]
    },
    {
      "cell_type": "markdown",
      "metadata": {
        "id": "i19juQSDFimH"
      },
      "source": [
        "## Bonus Question 3: Apache Spark\n",
        "\n",
        "If you have completed the Apache Spark advanced topic lab, what you can do is to migrate your pipeline from local to a Databricks Notebook. Share your notebook with your instructor and classmates to show off your achievements!"
      ]
    },
    {
      "cell_type": "code",
      "execution_count": null,
      "metadata": {
        "id": "XbbBZFzhFimH"
      },
      "outputs": [],
      "source": [
        "# your code here"
      ]
    }
  ],
  "metadata": {
    "kernelspec": {
      "display_name": "Python 3",
      "language": "python",
      "name": "python3"
    },
    "language_info": {
      "codemirror_mode": {
        "name": "ipython",
        "version": 3
      },
      "file_extension": ".py",
      "mimetype": "text/x-python",
      "name": "python",
      "nbconvert_exporter": "python",
      "pygments_lexer": "ipython3",
      "version": "3.7.3"
    },
    "colab": {
      "provenance": []
    }
  },
  "nbformat": 4,
  "nbformat_minor": 0
}